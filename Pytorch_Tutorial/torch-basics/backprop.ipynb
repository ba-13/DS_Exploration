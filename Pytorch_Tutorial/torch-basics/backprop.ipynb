{
 "cells": [
  {
   "cell_type": "code",
   "execution_count": 62,
   "metadata": {},
   "outputs": [],
   "source": [
    "import torch"
   ]
  },
  {
   "cell_type": "code",
   "execution_count": 63,
   "metadata": {},
   "outputs": [
    {
     "name": "stdout",
     "output_type": "stream",
     "text": [
      "tensor(1., grad_fn=<PowBackward0>)\n",
      "tensor(-2.)\n"
     ]
    }
   ],
   "source": [
    "x = torch.tensor(1.0)\n",
    "y = torch.tensor(2.0)\n",
    "w = torch.tensor(1.0, requires_grad=True)\n",
    "\n",
    "# forward pass\n",
    "y_hat = w*x\n",
    "loss = (y_hat - y)**2\n",
    "print(loss)\n",
    "\n",
    "# backward pass\n",
    "loss.backward()\n",
    "# calculates the local gradients, and goes back to leaf nodes for backward prop\n",
    "print(w.grad)"
   ]
  },
  {
   "cell_type": "markdown",
   "metadata": {},
   "source": [
    "# Implementing Linear Regression (Manual)"
   ]
  },
  {
   "cell_type": "code",
   "execution_count": 64,
   "metadata": {},
   "outputs": [],
   "source": [
    "import numpy as np\n",
    "import matplotlib.pyplot as plt"
   ]
  },
  {
   "cell_type": "code",
   "execution_count": 65,
   "metadata": {},
   "outputs": [
    {
     "data": {
      "image/png": "[encoded data removed]",
      "text/plain": [
       "<Figure size 432x288 with 1 Axes>"
      ]
     },
     "metadata": {
      "needs_background": "light"
     },
     "output_type": "display_data"
    }
   ],
   "source": [
    "# f = 2*x\n",
    "X = np.array(np.linspace(0,10, num=11), dtype=np.float32)\n",
    "Y = 3.1415*X + 2.718\n",
    "\n",
    "plt.figure()\n",
    "plt.plot(X, Y)\n",
    "plt.grid()"
   ]
  },
  {
   "cell_type": "code",
   "execution_count": 66,
   "metadata": {},
   "outputs": [],
   "source": [
    "def forward(x, w):\n",
    "    return w[0] + w[1]*x\n",
    "\n",
    "def loss(y, y_pred, reg=0.1):\n",
    "    return np.mean((y_pred - y)**2)/2 + reg*np.mean(w[1:]**2)/(2*len(y)), reg*np.mean(w[1:]**2)/(2*len(y))\n",
    "\n",
    "# gradient\n",
    "def gradient(x, y, y_predicted, w, reg=0.1):\n",
    "    # [dw_0, dw_1]\n",
    "    return np.array([np.mean(y_predicted-y), np.mean(np.dot(2*x, y_predicted-y)) + reg*w[1]/len(y)])"
   ]
  },
  {
   "cell_type": "code",
   "execution_count": 67,
   "metadata": {},
   "outputs": [],
   "source": [
    "alpha = 0.001\n",
    "iters = 1000\n",
    "reg = 100\n",
    "w_ = np.array([3, 1], dtype=np.float32)"
   ]
  },
  {
   "cell_type": "code",
   "execution_count": 68,
   "metadata": {},
   "outputs": [
    {
     "name": "stdout",
     "output_type": "stream",
     "text": [
      "Prediction before training: f(5) = 8.000\n",
      "epoch: 1 : b = 3.010, w = 2.609, loss = 81.82109694, loss_reg = 4.545\n",
      "epoch: 101 : b = 3.023, w = 3.062, loss = 42.64893521, loss_reg = 42.613\n",
      "epoch: 201 : b = 3.032, w = 3.061, loss = 42.61347064, loss_reg = 42.577\n",
      "epoch: 301 : b = 3.041, w = 3.059, loss = 42.57907646, loss_reg = 42.541\n",
      "epoch: 401 : b = 3.050, w = 3.058, loss = 42.54571316, loss_reg = 42.507\n",
      "epoch: 501 : b = 3.058, w = 3.057, loss = 42.51335308, loss_reg = 42.474\n",
      "epoch: 601 : b = 3.066, w = 3.056, loss = 42.48195214, loss_reg = 42.442\n",
      "epoch: 701 : b = 3.074, w = 3.055, loss = 42.45149600, loss_reg = 42.411\n",
      "epoch: 801 : b = 3.082, w = 3.053, loss = 42.42195320, loss_reg = 42.380\n",
      "epoch: 901 : b = 3.090, w = 3.052, loss = 42.39328883, loss_reg = 42.351\n",
      "Prediction after training: f(5) = 18.354\n"
     ]
    }
   ],
   "source": [
    "w = w_\n",
    "print(f\"Prediction before training: f(5) = {(forward(5, w)):.3f}\")\n",
    "\n",
    "for epoch in range(iters):\n",
    "    y_pred = forward(X, w)\n",
    "    l, l_reg = loss(Y, y_pred, reg)\n",
    "    dw = gradient(X, Y, y_pred, w, reg)\n",
    "    w -= alpha*dw\n",
    "    if epoch % (iters/10) == 0:\n",
    "        print(f'epoch: {epoch+1} : b = {w[0]:.3f}, w = {w[1]:.3f}, loss = {l:.8f}, loss_reg = {l_reg:.3f}')\n",
    "\n",
    "print(f\"Prediction after training: f(5) = {(forward(5, w)):.3f}\")"
   ]
  },
  {
   "cell_type": "markdown",
   "metadata": {},
   "source": [
    "# Implementing Linear Regression (Semi-Torch)"
   ]
  },
  {
   "cell_type": "code",
   "execution_count": 69,
   "metadata": {},
   "outputs": [],
   "source": [
    "X = torch.tensor([1,2,3,4], dtype=torch.float32)\n",
    "Y = torch.tensor([2,4,6,8], dtype=torch.float32)"
   ]
  },
  {
   "cell_type": "code",
   "execution_count": 70,
   "metadata": {},
   "outputs": [],
   "source": [
    "def forward(X):\n",
    "    return w*X\n",
    "\n",
    "def loss(y, y_predicted):\n",
    "    return ((y_predicted - y)**2).mean()"
   ]
  },
  {
   "cell_type": "code",
   "execution_count": 71,
   "metadata": {},
   "outputs": [],
   "source": [
    "learning_rate = 0.01\n",
    "n_iters = 69"
   ]
  },
  {
   "cell_type": "code",
   "execution_count": 72,
   "metadata": {},
   "outputs": [
    {
     "name": "stdout",
     "output_type": "stream",
     "text": [
      "Prediction before training: f(5) = 0.000\n",
      "epoch 1: w = 0.300, loss = 30.00000000\n",
      "epoch 7: w = 1.359, loss = 4.26725292\n",
      "epoch 13: w = 1.758, loss = 0.60698116\n",
      "epoch 19: w = 1.909, loss = 0.08633806\n",
      "epoch 25: w = 1.966, loss = 0.01228084\n",
      "epoch 31: w = 1.987, loss = 0.00174685\n",
      "epoch 37: w = 1.995, loss = 0.00024848\n",
      "epoch 43: w = 1.998, loss = 0.00003534\n",
      "epoch 49: w = 1.999, loss = 0.00000503\n",
      "epoch 55: w = 2.000, loss = 0.00000071\n",
      "epoch 61: w = 2.000, loss = 0.00000010\n",
      "epoch 67: w = 2.000, loss = 0.00000001\n",
      "Prediction after training: f(5) = 10.000\n"
     ]
    }
   ],
   "source": [
    "num = 5\n",
    "w = torch.tensor(0.0, dtype=torch.float32, requires_grad=True)\n",
    "\n",
    "print(f'Prediction before training: f({num}) = {forward(num):.3f}')\n",
    "\n",
    "for epoch in range(n_iters):\n",
    "    y_pred = forward(X)\n",
    "    l = loss(Y, y_pred)\n",
    "    # backward pass\n",
    "    l.backward() # dl/dw\n",
    "    dw = w.grad\n",
    "    with torch.no_grad():\n",
    "        w -= learning_rate * dw\n",
    "    w.grad.zero_()\n",
    "    if epoch % (n_iters//10) == 0:\n",
    "        print(f'epoch {epoch+1}: w = {w:.3f}, loss = {l:.8f}')\n",
    "\n",
    "print(f'Prediction after training: f({num}) = {forward(num):.3f}')"
   ]
  },
  {
   "cell_type": "markdown",
   "metadata": {},
   "source": [
    "# Implementing Linear Regression (Near-Torch)"
   ]
  },
  {
   "cell_type": "code",
   "execution_count": 73,
   "metadata": {},
   "outputs": [],
   "source": [
    "import torch\n",
    "import torch.nn as nn"
   ]
  },
  {
   "cell_type": "code",
   "execution_count": 74,
   "metadata": {},
   "outputs": [],
   "source": [
    "X : torch.Tensor = torch.tensor([1,2,3,4], dtype=torch.float32)\n",
    "Y : torch.Tensor = torch.tensor([2,4,6,8], dtype=torch.float32)\n",
    "w = torch.tensor(0.0, requires_grad=True)"
   ]
  },
  {
   "cell_type": "code",
   "execution_count": 75,
   "metadata": {},
   "outputs": [],
   "source": [
    "learning_rate : float = 0.01\n",
    "n_iters : int = 69"
   ]
  },
  {
   "cell_type": "code",
   "execution_count": 76,
   "metadata": {},
   "outputs": [],
   "source": [
    "loss = nn.MSELoss()\n",
    "optimizer = torch.optim.SGD([w], lr=learning_rate)"
   ]
  },
  {
   "cell_type": "code",
   "execution_count": 77,
   "metadata": {},
   "outputs": [],
   "source": [
    "def forward(X):\n",
    "    return w*X"
   ]
  },
  {
   "cell_type": "code",
   "execution_count": 78,
   "metadata": {},
   "outputs": [
    {
     "name": "stdout",
     "output_type": "stream",
     "text": [
      "Prediction before training: f(5) = 0.000\n",
      "epoch 1: w = 0.000, loss = 0.00000001\n",
      "epoch 7: w = 1.246, loss = 5.90623236\n",
      "epoch 13: w = 1.716, loss = 0.84011245\n",
      "epoch 19: w = 1.893, loss = 0.11949898\n",
      "epoch 25: w = 1.960, loss = 0.01699772\n",
      "epoch 31: w = 1.985, loss = 0.00241778\n",
      "epoch 37: w = 1.994, loss = 0.00034392\n",
      "epoch 43: w = 1.998, loss = 0.00004891\n",
      "epoch 49: w = 1.999, loss = 0.00000696\n",
      "epoch 55: w = 2.000, loss = 0.00000099\n",
      "epoch 61: w = 2.000, loss = 0.00000014\n",
      "epoch 67: w = 2.000, loss = 0.00000002\n",
      "Prediction after training: f(5) = 10.000\n"
     ]
    }
   ],
   "source": [
    "num = 5\n",
    "\n",
    "print(f'Prediction before training: f({num}) = {forward(num):.3f}')\n",
    "\n",
    "for epoch in range(n_iters):\n",
    "    if epoch % (n_iters//10) == 0:\n",
    "        print(f'epoch {epoch+1}: w = {w:.3f}, loss = {l:.8f}')\n",
    "    y_pred = forward(X)\n",
    "    l = loss(Y, y_pred)\n",
    "    l.backward()\n",
    "    optimizer.step()\n",
    "    optimizer.zero_grad()\n",
    "\n",
    "print(f'Prediction after training: f({num}) = {forward(num):.3f}')"
   ]
  },
  {
   "cell_type": "markdown",
   "metadata": {},
   "source": [
    "# Implementing Linear Regression (Completely PyTorch)"
   ]
  },
  {
   "cell_type": "code",
   "execution_count": 79,
   "metadata": {},
   "outputs": [],
   "source": [
    "import torch\n",
    "import torch.nn as nn"
   ]
  },
  {
   "cell_type": "code",
   "execution_count": 80,
   "metadata": {},
   "outputs": [
    {
     "name": "stdout",
     "output_type": "stream",
     "text": [
      "4 1\n"
     ]
    }
   ],
   "source": [
    "X = torch.tensor([[1],[2],[3],[4]], dtype=torch.float32)\n",
    "Y = torch.tensor([[2],[4],[6],[8]], dtype=torch.float32)\n",
    "n_samples, n_features = X.shape\n",
    "print(n_samples, n_features)"
   ]
  },
  {
   "cell_type": "code",
   "execution_count": 81,
   "metadata": {},
   "outputs": [],
   "source": [
    "learning_rate = 0.01\n",
    "n_iters = 150"
   ]
  },
  {
   "cell_type": "code",
   "execution_count": 82,
   "metadata": {},
   "outputs": [],
   "source": [
    "input_size = n_features\n",
    "output_size = n_features\n",
    "model = nn.Linear(input_size, output_size)"
   ]
  },
  {
   "cell_type": "code",
   "execution_count": 83,
   "metadata": {},
   "outputs": [],
   "source": [
    "loss = nn.MSELoss()\n",
    "optimizer = torch.optim.SGD(model.parameters(), lr=learning_rate)"
   ]
  },
  {
   "cell_type": "code",
   "execution_count": 84,
   "metadata": {},
   "outputs": [],
   "source": [
    "X_test = torch.tensor([5], dtype=torch.float32)"
   ]
  },
  {
   "cell_type": "code",
   "execution_count": 85,
   "metadata": {},
   "outputs": [
    {
     "name": "stdout",
     "output_type": "stream",
     "text": [
      "Prediction before training: f(5.0) = 5.070\n",
      "epoch 1: w = 1.097, loss = 6.73516607\n",
      "epoch 16: w = 1.765, loss = 0.07969748\n",
      "epoch 31: w = 1.816, loss = 0.04755553\n",
      "epoch 46: w = 1.827, loss = 0.04335935\n",
      "epoch 61: w = 1.835, loss = 0.03962892\n",
      "epoch 76: w = 1.842, loss = 0.03621986\n",
      "epoch 91: w = 1.849, loss = 0.03310408\n",
      "epoch 106: w = 1.856, loss = 0.03025628\n",
      "epoch 121: w = 1.862, loss = 0.02765350\n",
      "epoch 136: w = 1.868, loss = 0.02527460\n",
      "Prediction after training: f(5.0) = 9.739\n"
     ]
    }
   ],
   "source": [
    "print(f'Prediction before training: f({X_test[0].item()}) = {model(X_test).item():.3f}')\n",
    "\n",
    "for epoch in range(n_iters):\n",
    "    y_pred = model(X)\n",
    "    l = loss(Y, y_pred)\n",
    "    l.backward()\n",
    "    # I don't understand how is loss and the optimizer connected?\n",
    "    optimizer.step()\n",
    "    optimizer.zero_grad()\n",
    "    if epoch % (n_iters//10) == 0:\n",
    "        [w, b] = model.parameters()\n",
    "        print(f'epoch {epoch+1}: w = {w[0][0].item():.3f}, loss = {l:.8f}')\n",
    "\n",
    "print(f'Prediction after training: f({X_test[0].item()}) = {model(X_test).item():.3f}')"
   ]
  },
  {
   "cell_type": "code",
   "execution_count": 86,
   "metadata": {},
   "outputs": [],
   "source": [
    "# custom linear regression model\n",
    "class LinearRegress(nn.Module):\n",
    "    def __init__(self, input_dim, output_dim):\n",
    "        super(LinearRegress, self).__init__()\n",
    "        self.lin = nn.Linear(input_dim, output_dim)\n",
    "    \n",
    "    def forward(self, x):\n",
    "        return self.lin(x)"
   ]
  },
  {
   "cell_type": "code",
   "execution_count": 87,
   "metadata": {},
   "outputs": [],
   "source": [
    "model = LinearRegress(input_size, output_size)"
   ]
  }
 ],
 "metadata": {
  "interpreter": {
   "hash": "80368f23d0b702c79dfe36020914814c563de0a4219ae0904a6558b886cfd7bb"
  },
  "kernelspec": {
   "display_name": "Python 3.9.5 ('venv': venv)",
   "language": "python",
   "name": "python3"
  },
  "language_info": {
   "codemirror_mode": {
    "name": "ipython",
    "version": 3
   },
   "file_extension": ".py",
   "mimetype": "text/x-python",
   "name": "python",
   "nbconvert_exporter": "python",
   "pygments_lexer": "ipython3",
   "version": "3.9.5"
  },
  "orig_nbformat": 4
 },
 "nbformat": 4,
 "nbformat_minor": 2
}

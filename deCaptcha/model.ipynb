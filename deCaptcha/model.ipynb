{
 "cells": [
  {
   "cell_type": "code",
   "execution_count": 192,
   "metadata": {},
   "outputs": [
    {
     "name": "stdout",
     "output_type": "stream",
     "text": [
      "2.11.0\n"
     ]
    }
   ],
   "source": [
    "# TensorFlow and tf.keras\n",
    "import tensorflow as tf\n",
    "from tensorflow import keras\n",
    "from keras import layers\n",
    "# from keras.preprocessing.image import ImageDataGenerator\n",
    "\n",
    "# Helper libraries\n",
    "import numpy as np\n",
    "import matplotlib.pyplot as plt\n",
    "import pandas as pd\n",
    "import numba\n",
    "\n",
    "# Data Preprocessing\n",
    "import cv2\n",
    "import os\n",
    "import glob\n",
    "import numpy as np\n",
    "import matplotlib.pyplot as plt\n",
    "import sys\n",
    "from tqdm import tqdm\n",
    "from sklearn.model_selection import train_test_split\n",
    "sys.setrecursionlimit(10000)\n",
    "\n",
    "print(tf.__version__)"
   ]
  },
  {
   "cell_type": "code",
   "execution_count": 193,
   "metadata": {},
   "outputs": [],
   "source": [
    "LABELS_PATH = './train/labels.txt'\n",
    "DATA_PATH = './train/'\n",
    "img_height = 13\n",
    "img_width = 13\n",
    "batch_size = 3"
   ]
  },
  {
   "cell_type": "code",
   "execution_count": 194,
   "metadata": {},
   "outputs": [
    {
     "data": {
      "text/plain": [
       "Int64Index([0, 1, 2], dtype='int64')"
      ]
     },
     "execution_count": 194,
     "metadata": {},
     "output_type": "execute_result"
    }
   ],
   "source": [
    "df = pd.read_csv(LABELS_PATH, header=None)\n",
    "df.columns"
   ]
  },
  {
   "cell_type": "code",
   "execution_count": 195,
   "metadata": {},
   "outputs": [],
   "source": [
    "df['file'] = df.index\n",
    "df['file'] = df['file'].apply(lambda x: str(x)+'.png')\n",
    "\n",
    "df['labels'] = df[[0, 1, 2]].apply(lambda row: ','.join(row), axis=1)"
   ]
  },
  {
   "cell_type": "code",
   "execution_count": 196,
   "metadata": {},
   "outputs": [
    {
     "data": {
      "text/html": [
       "<div>\n",
       "<style scoped>\n",
       "    .dataframe tbody tr th:only-of-type {\n",
       "        vertical-align: middle;\n",
       "    }\n",
       "\n",
       "    .dataframe tbody tr th {\n",
       "        vertical-align: top;\n",
       "    }\n",
       "\n",
       "    .dataframe thead th {\n",
       "        text-align: right;\n",
       "    }\n",
       "</style>\n",
       "<table border=\"1\" class=\"dataframe\">\n",
       "  <thead>\n",
       "    <tr style=\"text-align: right;\">\n",
       "      <th></th>\n",
       "      <th>0</th>\n",
       "      <th>1</th>\n",
       "      <th>2</th>\n",
       "      <th>file</th>\n",
       "      <th>labels</th>\n",
       "    </tr>\n",
       "  </thead>\n",
       "  <tbody>\n",
       "    <tr>\n",
       "      <th>0</th>\n",
       "      <td>ZETA</td>\n",
       "      <td>EPSILON</td>\n",
       "      <td>LAMDA</td>\n",
       "      <td>0.png</td>\n",
       "      <td>ZETA,EPSILON,LAMDA</td>\n",
       "    </tr>\n",
       "    <tr>\n",
       "      <th>1</th>\n",
       "      <td>DELTA</td>\n",
       "      <td>ALPHA</td>\n",
       "      <td>EPSILON</td>\n",
       "      <td>1.png</td>\n",
       "      <td>DELTA,ALPHA,EPSILON</td>\n",
       "    </tr>\n",
       "    <tr>\n",
       "      <th>2</th>\n",
       "      <td>RHO</td>\n",
       "      <td>PHI</td>\n",
       "      <td>PI</td>\n",
       "      <td>2.png</td>\n",
       "      <td>RHO,PHI,PI</td>\n",
       "    </tr>\n",
       "    <tr>\n",
       "      <th>3</th>\n",
       "      <td>TAU</td>\n",
       "      <td>XI</td>\n",
       "      <td>PSI</td>\n",
       "      <td>3.png</td>\n",
       "      <td>TAU,XI,PSI</td>\n",
       "    </tr>\n",
       "    <tr>\n",
       "      <th>4</th>\n",
       "      <td>PI</td>\n",
       "      <td>OMICRON</td>\n",
       "      <td>IOTA</td>\n",
       "      <td>4.png</td>\n",
       "      <td>PI,OMICRON,IOTA</td>\n",
       "    </tr>\n",
       "  </tbody>\n",
       "</table>\n",
       "</div>"
      ],
      "text/plain": [
       "       0        1        2   file               labels\n",
       "0   ZETA  EPSILON    LAMDA  0.png   ZETA,EPSILON,LAMDA\n",
       "1  DELTA    ALPHA  EPSILON  1.png  DELTA,ALPHA,EPSILON\n",
       "2    RHO      PHI       PI  2.png           RHO,PHI,PI\n",
       "3    TAU       XI      PSI  3.png           TAU,XI,PSI\n",
       "4     PI  OMICRON     IOTA  4.png      PI,OMICRON,IOTA"
      ]
     },
     "execution_count": 196,
     "metadata": {},
     "output_type": "execute_result"
    }
   ],
   "source": [
    "df.head()"
   ]
  },
  {
   "cell_type": "code",
   "execution_count": 197,
   "metadata": {},
   "outputs": [],
   "source": [
    "dataset_paths = glob.glob(DATA_PATH + \"*.png\")"
   ]
  },
  {
   "cell_type": "code",
   "execution_count": 198,
   "metadata": {},
   "outputs": [],
   "source": [
    "color_threshold = 245\n",
    "\n",
    "def load_img(path):\n",
    "    img = cv2.imread(path)\n",
    "    # print(img.shape)\n",
    "    HSV = cv2.cvtColor(img, cv2.COLOR_BGR2HSV)\n",
    "    return img, HSV\n",
    "\n",
    "@numba.njit(cache=True)\n",
    "def dfs(x, y, img, visited, component_number):\n",
    "    h, w = img.shape\n",
    "    if visited[y][x] != 0:\n",
    "        return\n",
    "    if y>=h or y<0:\n",
    "        return\n",
    "    if x>=w or x<0:\n",
    "        return\n",
    "    if img[y][x] < color_threshold:\n",
    "        return\n",
    "    visited[y][x] = component_number\n",
    "    dfs(x+1, y, img, visited, component_number)\n",
    "    dfs(x, y+1, img, visited, component_number)\n",
    "    dfs(x-1, y, img, visited, component_number)\n",
    "    dfs(x, y-1, img, visited, component_number)\n",
    "    return\n",
    "\n",
    "def crop(image):\n",
    "    margin = 10\n",
    "    y_nonzero, x_nonzero = np.nonzero(image)\n",
    "    return image[np.min(y_nonzero)-margin:np.max(y_nonzero)+margin, np.min(x_nonzero)-margin:np.max(x_nonzero)+margin]\n",
    "\n",
    "@numba.njit(cache=True)\n",
    "def dfs_in_image(img:cv2.Mat):\n",
    "    h, w = img.shape\n",
    "    components = []\n",
    "    component_number = 50\n",
    "    visited_mat = np.zeros(img.shape)\n",
    "    for i in range(w):\n",
    "        for j in range(h):\n",
    "            if img[j][i] > color_threshold:\n",
    "                if visited_mat[j][i] == 0:\n",
    "                    old_component = component_number\n",
    "                    if np.sum(visited_mat[:, i]) == 0:\n",
    "                        component_number += 50 # increase only if a new column\n",
    "                    dfs(i, j, img, visited_mat, component_number)\n",
    "                    if old_component != component_number:\n",
    "                        # print(\"Found Component\", component_number)\n",
    "                        components.append(component_number)\n",
    "\n",
    "    return visited_mat, components\n",
    "\n",
    "def filter_letters_from_image(path):\n",
    "    gaussian_kernel_size = 9\n",
    "    erosion_kernel_size = 2\n",
    "    lower_threshold_letter = np.array([0, 125, 255])\n",
    "    upper_threshold_letter = np.array([255, 129, 255])\n",
    "    \n",
    "    img, hsv_img = load_img(path)\n",
    "    \n",
    "    mask = cv2.inRange(hsv_img, lower_threshold_letter, upper_threshold_letter)\n",
    "    # result = cv2.bitwise_and(img, img, mask=mask)\n",
    "\n",
    "    blurred_mask = cv2.GaussianBlur(mask, (gaussian_kernel_size, gaussian_kernel_size), 0)\n",
    "\n",
    "    kernel = np.ones((erosion_kernel_size, erosion_kernel_size), np.uint8)\n",
    "    erosion = cv2.erode(mask, kernel, iterations = 2)\n",
    "\n",
    "    dilated_mask = cv2.dilate(erosion, kernel,iterations = 1)\n",
    "    \n",
    "    return blurred_mask, dilated_mask\n",
    "\n",
    "def segment_letters(components, segmented):\n",
    "    letters = []\n",
    "    for component in components:\n",
    "        lower = np.array([component-1])\n",
    "        upper = np.array([component+1])\n",
    "        mask = cv2.inRange(segmented, lower, upper)\n",
    "        masked = cv2.bitwise_and(segmented, segmented, mask=mask)\n",
    "        letters.append(masked)\n",
    "    return letters"
   ]
  },
  {
   "cell_type": "code",
   "execution_count": 199,
   "metadata": {},
   "outputs": [],
   "source": [
    "def umbrella_get_letter(letter_loc:tuple, down_points:tuple):\n",
    "    \"\"\"Obtain cropped letter of specified file and index\n",
    "\n",
    "    Args:\n",
    "        letter_loc (tuple): (file_path, letter_index)\n",
    "\n",
    "    Returns:\n",
    "        np.ndarray: Image matrix of cropped letter\n",
    "    \"\"\"\n",
    "    path_, idx = letter_loc\n",
    "    blurred, dilated = filter_letters_from_image(path_)\n",
    "    segmented, components = dfs_in_image(dilated)\n",
    "    letters = segment_letters(components, segmented)\n",
    "    cropped = crop(letters[idx])\n",
    "    resized_down = cv2.resize(cropped, down_points, interpolation= cv2.INTER_LINEAR)\n",
    "    return cropped\n",
    "\n",
    "def umbrella_get_letters(path_:str):\n",
    "    \"\"\"Obtain cropped letter of specified file and index\n",
    "\n",
    "    Args:\n",
    "        path_(str): path to file\n",
    "\n",
    "    Returns:\n",
    "        list of np.ndarray: Image matrices of cropped letter\n",
    "    \"\"\"\n",
    "    down_points = (img_width, img_height)\n",
    "    blurred, dilated = filter_letters_from_image(path_)\n",
    "    segmented, components = dfs_in_image(dilated)\n",
    "    letters = segment_letters(components, segmented)\n",
    "    cropped = []\n",
    "    for letter in letters:\n",
    "        letter = crop(letter)\n",
    "        letter = cv2.resize(letter, down_points, interpolation= cv2.INTER_LINEAR) # reshape\n",
    "        letter = cv2.normalize(letter, None, alpha=0, beta=1, norm_type=cv2.NORM_MINMAX, dtype=cv2.CV_32F) # normalise\n",
    "        cropped.append(letter)\n",
    "    return cropped"
   ]
  },
  {
   "cell_type": "code",
   "execution_count": 218,
   "metadata": {},
   "outputs": [
    {
     "data": {
      "image/png": "[encoded data removed]",
      "text/plain": [
       "<Figure size 640x480 with 1 Axes>"
      ]
     },
     "metadata": {},
     "output_type": "display_data"
    },
    {
     "data": {
      "image/png": "[encoded data removed]",
      "text/plain": [
       "<Figure size 1500x1500 with 3 Axes>"
      ]
     },
     "metadata": {},
     "output_type": "display_data"
    }
   ],
   "source": [
    "# blurred, dilated = filter_letters_from_image(DATA_PATH + '26.png')\n",
    "# segmented, components = dfs_in_image(dilated)\n",
    "# letters = segment_letters(components, segmented)\n",
    "path_ = DATA_PATH + '300.png'\n",
    "cropped = umbrella_get_letters(path_)\n",
    "\n",
    "img, hsv = load_img(path_)\n",
    "plt.imshow(img)\n",
    "fig, ax = plt.subplots(len(cropped), 1, figsize=(15, 15))\n",
    "for i, _ in enumerate(cropped):\n",
    "    cropped_letter = cropped[i]\n",
    "    ax[i].imshow(cropped_letter, cmap='gray')"
   ]
  },
  {
   "cell_type": "code",
   "execution_count": 201,
   "metadata": {},
   "outputs": [],
   "source": [
    "# Create tmp data_set\n",
    "# !Not used\n",
    "def create_tmp_dataset():\n",
    "    max_height = 0\n",
    "    max_width = 0\n",
    "    if not os.path.isdir('./tmp'):\n",
    "        os.mkdir('./tmp')\n",
    "\n",
    "    class_occurences = {}\n",
    "    for idx, row in tqdm(df.iterrows()):\n",
    "        indices = [0, 1, 2]\n",
    "        for index in indices:\n",
    "            class_ = row[index]\n",
    "            meta = (DATA_PATH + row['file'], index)\n",
    "            if class_ in class_occurences.keys():\n",
    "                class_occurences[class_] += 1\n",
    "            else:\n",
    "                class_occurences[class_] = 0\n",
    "            letter = umbrella_get_letter(meta)\n",
    "            if letter.shape[0] > max_height:\n",
    "                max_height = letter.shape[0]\n",
    "            if letter.shape[1] > max_width:\n",
    "                max_width = letter.shape[1]\n",
    "                \n",
    "            status = cv2.imwrite(f'./tmp/{class_}_{class_occurences[class_]}_{row[\"file\"][:-4]}.png', letter)\n",
    "    print(class_occurences), (max_width, max_height)"
   ]
  },
  {
   "cell_type": "markdown",
   "metadata": {},
   "source": [
    "# Model"
   ]
  },
  {
   "cell_type": "code",
   "execution_count": 202,
   "metadata": {},
   "outputs": [
    {
     "data": {
      "text/plain": [
       "{'OMEGA': 0,\n",
       " 'NU': 1,\n",
       " 'OMICRON': 2,\n",
       " 'CHI': 3,\n",
       " 'THETA': 4,\n",
       " 'ZETA': 5,\n",
       " 'PSI': 6,\n",
       " 'GAMMA': 7,\n",
       " 'UPSILON': 8,\n",
       " 'TAU': 9,\n",
       " 'MU': 10,\n",
       " 'SIGMA': 11,\n",
       " 'DELTA': 12,\n",
       " 'IOTA': 13,\n",
       " 'PI': 14,\n",
       " 'BETA': 15,\n",
       " 'PHI': 16,\n",
       " 'ETA': 17,\n",
       " 'XI': 18,\n",
       " 'KAPPA': 19,\n",
       " 'ALPHA': 20,\n",
       " 'EPSILON': 21,\n",
       " 'LAMDA': 22,\n",
       " 'RHO': 23}"
      ]
     },
     "execution_count": 202,
     "metadata": {},
     "output_type": "execute_result"
    }
   ],
   "source": [
    "classes = os.listdir('./reference/')\n",
    "classes = [x[:-4] for x in classes]\n",
    "# len(classes), classes\n",
    "class_dict = {x: i for i, x in enumerate(classes)}\n",
    "\n",
    "class_dict"
   ]
  },
  {
   "cell_type": "code",
   "execution_count": 203,
   "metadata": {},
   "outputs": [],
   "source": [
    "import json\n",
    "import pickle\n",
    "\n",
    "with open('classes.pickle', 'wb') as fp:\n",
    "    pickle.dump(classes, fp)\n",
    "\n",
    "with open('mapping.json', 'w') as fp:\n",
    "    json.dump(class_dict, fp)"
   ]
  },
  {
   "cell_type": "code",
   "execution_count": 204,
   "metadata": {},
   "outputs": [],
   "source": [
    "model = tf.keras.Sequential([\n",
    "    layers.Input((img_height, img_width, 1)),\n",
    "    layers.Conv2D(7, 3, padding='same'),\n",
    "    # layers.Conv2D(7, 3, padding='same'),\n",
    "    layers.MaxPooling2D(),\n",
    "    layers.Flatten(),\n",
    "    layers.Dense(len(classes))\n",
    "])"
   ]
  },
  {
   "cell_type": "code",
   "execution_count": 205,
   "metadata": {},
   "outputs": [],
   "source": [
    "file_paths = df['file'].values\n",
    "labels = df['labels'].values"
   ]
  },
  {
   "cell_type": "code",
   "execution_count": 206,
   "metadata": {},
   "outputs": [],
   "source": [
    "# Instantiate an optimizer.\n",
    "optimizer = keras.optimizers.SGD(learning_rate=1e-3)\n",
    "\n",
    "loss_fn = keras.losses.SparseCategoricalCrossentropy(from_logits=True)\n",
    "\n",
    "# Prepare the metrics.\n",
    "train_acc_metric = keras.metrics.SparseCategoricalAccuracy()\n",
    "val_acc_metric = keras.metrics.SparseCategoricalAccuracy()\n",
    "\n",
    "# Prepare the training dataset.\n",
    "x_train, x_val, y_train, y_val = train_test_split(file_paths, labels, test_size=0.2, random_state=42)\n",
    "\n",
    "# Prepare the training dataset.\n",
    "train_dataset = tf.data.Dataset.from_tensor_slices((x_train, y_train))\n",
    "train_dataset = train_dataset.shuffle(buffer_size=256).batch(batch_size)\n",
    "\n",
    "# Prepare the validation dataset.\n",
    "val_dataset = tf.data.Dataset.from_tensor_slices((x_val, y_val))\n",
    "val_dataset = val_dataset.batch(batch_size)"
   ]
  },
  {
   "cell_type": "code",
   "execution_count": 207,
   "metadata": {},
   "outputs": [],
   "source": [
    "@tf.function\n",
    "def train_step(x, y):\n",
    "    with tf.GradientTape() as tape:\n",
    "        logits = model(x, training=True)\n",
    "        loss_value = loss_fn(y, logits)\n",
    "    grads = tape.gradient(loss_value, model.trainable_weights)\n",
    "    optimizer.apply_gradients(zip(grads, model.trainable_weights))\n",
    "    train_acc_metric.update_state(y, logits)\n",
    "    return loss_value\n",
    "\n",
    "@tf.function\n",
    "def test_step(x, y):\n",
    "    val_logits = model(x, training=False)\n",
    "    val_acc_metric.update_state(y, val_logits)"
   ]
  },
  {
   "cell_type": "code",
   "execution_count": 208,
   "metadata": {},
   "outputs": [],
   "source": [
    "def prepare_batch(x_batch, y_batch):\n",
    "    x_batch_new = []\n",
    "    y_batch_new = []\n",
    "    for idx, f in enumerate(x_batch):\n",
    "        file_name = f.numpy().decode('utf-8')\n",
    "        letters = umbrella_get_letters(DATA_PATH + file_name)\n",
    "        labels = y_batch[idx].numpy().decode('utf-8')\n",
    "        labels = labels.split(',')\n",
    "        x_batch_new.extend(letters)\n",
    "        y_batch_new.extend(labels)\n",
    "    x_batch_new = np.array(x_batch_new)\n",
    "    y_batch_new = np.array([class_dict[y] for y in y_batch_new])\n",
    "    \n",
    "    return x_batch_new, y_batch_new"
   ]
  },
  {
   "cell_type": "code",
   "execution_count": 224,
   "metadata": {},
   "outputs": [
    {
     "name": "stdout",
     "output_type": "stream",
     "text": [
      "\n",
      "Start of epoch 0\n"
     ]
    },
    {
     "name": "stderr",
     "output_type": "stream",
     "text": [
      "100%|██████████| 534/534 [00:11<00:00, 48.33it/s]\n"
     ]
    },
    {
     "name": "stdout",
     "output_type": "stream",
     "text": [
      "Training acc over epoch: 0.9977\n",
      "Validation acc: 0.9950\n",
      "Time taken: 13.65s\n",
      "\n",
      "Start of epoch 1\n"
     ]
    },
    {
     "name": "stderr",
     "output_type": "stream",
     "text": [
      "100%|██████████| 534/534 [00:10<00:00, 49.40it/s]\n"
     ]
    },
    {
     "name": "stdout",
     "output_type": "stream",
     "text": [
      "Training acc over epoch: 0.9983\n",
      "Validation acc: 1.0000\n",
      "Time taken: 13.44s\n",
      "\n",
      "Start of epoch 2\n"
     ]
    },
    {
     "name": "stderr",
     "output_type": "stream",
     "text": [
      "100%|██████████| 534/534 [00:10<00:00, 49.22it/s]\n"
     ]
    },
    {
     "name": "stdout",
     "output_type": "stream",
     "text": [
      "Training acc over epoch: 0.9990\n",
      "Validation acc: 1.0000\n",
      "Time taken: 13.46s\n",
      "\n",
      "Start of epoch 3\n"
     ]
    },
    {
     "name": "stderr",
     "output_type": "stream",
     "text": [
      "100%|██████████| 534/534 [00:10<00:00, 49.49it/s]\n"
     ]
    },
    {
     "name": "stdout",
     "output_type": "stream",
     "text": [
      "Training acc over epoch: 0.9998\n",
      "Validation acc: 1.0000\n",
      "Time taken: 13.40s\n",
      "\n",
      "Start of epoch 4\n"
     ]
    },
    {
     "name": "stderr",
     "output_type": "stream",
     "text": [
      "100%|██████████| 534/534 [00:10<00:00, 49.19it/s]\n"
     ]
    },
    {
     "name": "stdout",
     "output_type": "stream",
     "text": [
      "Training acc over epoch: 1.0000\n",
      "Validation acc: 1.0000\n",
      "Time taken: 13.46s\n",
      "\n",
      "Start of epoch 5\n"
     ]
    },
    {
     "name": "stderr",
     "output_type": "stream",
     "text": [
      "100%|██████████| 534/534 [00:10<00:00, 49.32it/s]\n"
     ]
    },
    {
     "name": "stdout",
     "output_type": "stream",
     "text": [
      "Training acc over epoch: 1.0000\n",
      "Validation acc: 1.0000\n",
      "Time taken: 13.45s\n"
     ]
    }
   ],
   "source": [
    "import time\n",
    "\n",
    "epochs = 6\n",
    "for epoch in range(epochs):\n",
    "    print(\"\\nStart of epoch %d\" % (epoch,))\n",
    "    start_time = time.time()\n",
    "\n",
    "    # Iterate over the batches of the dataset.\n",
    "    for step, (x_batch_train, y_batch_train) in enumerate(tqdm(train_dataset)):\n",
    "        x_batch_train, y_batch_train = prepare_batch(x_batch_train, y_batch_train)\n",
    "        loss_value = train_step(x_batch_train, y_batch_train)\n",
    "\n",
    "        # Log every 200 batches.\n",
    "        # if step % 200 == 0:\n",
    "        #     print(\n",
    "        #         \"Training loss (for one batch) at step %d: %.4f\"\n",
    "        #         % (step, float(loss_value))\n",
    "        #     )\n",
    "        #     print(\"Seen so far: %d samples\" % ((step + 1) * batch_size))\n",
    "\n",
    "    # Display metrics at the end of each epoch.\n",
    "    train_acc = train_acc_metric.result()\n",
    "    print(\"Training acc over epoch: %.4f\" % (float(train_acc),))\n",
    "\n",
    "    # Reset training metrics at the end of each epoch\n",
    "    train_acc_metric.reset_states()\n",
    "\n",
    "    # Run a validation loop at the end of each epoch.\n",
    "    for x_batch_val, y_batch_val in val_dataset:\n",
    "        x_batch_val, y_batch_val = prepare_batch(x_batch_val, y_batch_val)\n",
    "        test_step(x_batch_val, y_batch_val)\n",
    "\n",
    "    val_acc = val_acc_metric.result()\n",
    "    val_acc_metric.reset_states()\n",
    "    print(\"Validation acc: %.4f\" % (float(val_acc),))\n",
    "    print(\"Time taken: %.2fs\" % (time.time() - start_time))\n"
   ]
  },
  {
   "cell_type": "code",
   "execution_count": 225,
   "metadata": {},
   "outputs": [
    {
     "name": "stdout",
     "output_type": "stream",
     "text": [
      "1/1 [==============================] - 0s 23ms/step\n"
     ]
    },
    {
     "data": {
      "text/plain": [
       "['PHI', 'BETA', 'LAMDA']"
      ]
     },
     "execution_count": 225,
     "metadata": {},
     "output_type": "execute_result"
    },
    {
     "data": {
      "image/png": "[encoded data removed]",
      "text/plain": [
       "<Figure size 640x480 with 1 Axes>"
      ]
     },
     "metadata": {},
     "output_type": "display_data"
    }
   ],
   "source": [
    "idx = np.random.randint(0, 2000)\n",
    "path_ = DATA_PATH + file_paths[idx]\n",
    "letters = umbrella_get_letters(path_)\n",
    "img = cv2.imread(path_)\n",
    "plt.imshow(img)\n",
    "\n",
    "letters = np.array(letters)\n",
    "letters = np.expand_dims(letters, -1)\n",
    "# letter = np.expand_dims(letter, 0)\n",
    "logits = model.predict(letters)\n",
    "# classes[]\n",
    "# logits\n",
    "indices = np.argmax(logits, axis=1)\n",
    "[classes[index] for index in indices]"
   ]
  },
  {
   "cell_type": "code",
   "execution_count": 226,
   "metadata": {},
   "outputs": [
    {
     "name": "stdout",
     "output_type": "stream",
     "text": [
      "Model: \"sequential_11\"\n",
      "_________________________________________________________________\n",
      " Layer (type)                Output Shape              Param #   \n",
      "=================================================================\n",
      " conv2d_20 (Conv2D)          (None, 13, 13, 7)         70        \n",
      "                                                                 \n",
      " max_pooling2d_11 (MaxPoolin  (None, 6, 6, 7)          0         \n",
      " g2D)                                                            \n",
      "                                                                 \n",
      " flatten_11 (Flatten)        (None, 252)               0         \n",
      "                                                                 \n",
      " dense_11 (Dense)            (None, 24)                6072      \n",
      "                                                                 \n",
      "=================================================================\n",
      "Total params: 6,142\n",
      "Trainable params: 6,142\n",
      "Non-trainable params: 0\n",
      "_________________________________________________________________\n"
     ]
    }
   ],
   "source": [
    "model.summary()"
   ]
  },
  {
   "cell_type": "code",
   "execution_count": 227,
   "metadata": {},
   "outputs": [
    {
     "name": "stdout",
     "output_type": "stream",
     "text": [
      "WARNING:tensorflow:Compiled the loaded model, but the compiled metrics have yet to be built. `model.compile_metrics` will be empty until you train or evaluate the model.\n"
     ]
    }
   ],
   "source": [
    "model.save('./model.h5')"
   ]
  },
  {
   "cell_type": "code",
   "execution_count": null,
   "metadata": {},
   "outputs": [],
   "source": []
  }
 ],
 "metadata": {
  "kernelspec": {
   "display_name": "Python 3.8.10 ('.venv': venv)",
   "language": "python",
   "name": "python3"
  },
  "language_info": {
   "codemirror_mode": {
    "name": "ipython",
    "version": 3
   },
   "file_extension": ".py",
   "mimetype": "text/x-python",
   "name": "python",
   "nbconvert_exporter": "python",
   "pygments_lexer": "ipython3",
   "version": "3.8.10"
  },
  "orig_nbformat": 4,
  "vscode": {
   "interpreter": {
    "hash": "0cb58476b8dfd0e756c7df27a55cd6fa784ba2b69d36ebaf53d5445a7f18eea1"
   }
  }
 },
 "nbformat": 4,
 "nbformat_minor": 2
}
